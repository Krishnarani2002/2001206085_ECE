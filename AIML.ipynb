{
  "nbformat": 4,
  "nbformat_minor": 0,
  "metadata": {
    "colab": {
      "provenance": [],
      "authorship_tag": "ABX9TyNI09MOgvQmbAo7nO6QA+Mr",
      "include_colab_link": true
    },
    "kernelspec": {
      "name": "python3",
      "display_name": "Python 3"
    },
    "language_info": {
      "name": "python"
    }
  },
  "cells": [
    {
      "cell_type": "markdown",
      "metadata": {
        "id": "view-in-github",
        "colab_type": "text"
      },
      "source": [
        "<a href=\"https://colab.research.google.com/github/Krishnarani2002/2001206085_ECE/blob/main/AIML.ipynb\" target=\"_parent\"><img src=\"https://colab.research.google.com/assets/colab-badge.svg\" alt=\"Open In Colab\"/></a>"
      ]
    },
    {
      "cell_type": "code",
      "source": [
        "print('HELLO ABIT', end=' ')\n",
        "print('DEPT. OF ECE')"
      ],
      "metadata": {
        "colab": {
          "base_uri": "https://localhost:8080/"
        },
        "id": "sZKAJw_7q-Gw",
        "outputId": "55f63b8d-5c63-4433-8e9a-a1204a98b425"
      },
      "execution_count": null,
      "outputs": [
        {
          "output_type": "stream",
          "name": "stdout",
          "text": [
            "HELLO ABIT DEPT. OF ECE\n"
          ]
        }
      ]
    },
    {
      "cell_type": "code",
      "execution_count": null,
      "metadata": {
        "colab": {
          "base_uri": "https://localhost:8080/"
        },
        "id": "Zg7S9yOqpZ-j",
        "outputId": "f550cfa5-7b91-4ed9-b1d4-a22937b9bebd"
      },
      "outputs": [
        {
          "output_type": "stream",
          "name": "stdout",
          "text": [
            "HELLO WORLD\n"
          ]
        }
      ],
      "source": [
        "print(\"HELLO WORLD\")"
      ]
    },
    {
      "cell_type": "code",
      "source": [
        "# Using of sep='' in print().\n",
        "a=7\n",
        "b=1\n",
        "c=2023\n",
        "print(a,b,c, sep='-')"
      ],
      "metadata": {
        "colab": {
          "base_uri": "https://localhost:8080/"
        },
        "id": "hRu4YuXosF0C",
        "outputId": "b42a002e-9dda-4157-9cf9-4493330e074b"
      },
      "execution_count": null,
      "outputs": [
        {
          "output_type": "stream",
          "name": "stdout",
          "text": [
            "7-1-2023\n"
          ]
        }
      ]
    }
  ]
}